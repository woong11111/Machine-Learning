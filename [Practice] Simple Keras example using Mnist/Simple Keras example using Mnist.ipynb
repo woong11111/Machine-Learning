{
 "cells": [
  {
   "cell_type": "code",
   "execution_count": 16,
   "metadata": {},
   "outputs": [],
   "source": [
    "import pandas as pd\n",
    "import numpy as np\n",
    "\n",
    "from keras.utils import np_utils \n",
    "from keras import layers, models"
   ]
  },
  {
   "cell_type": "code",
   "execution_count": 27,
   "metadata": {},
   "outputs": [],
   "source": [
    "    df = pd.read_csv('train.csv')\n",
    "    \n",
    "    X_train, y_train = (df[df.columns[1:]][df.index < 40000], df[df.columns[:1]][df.index < 40000])\n",
    "    X_test, y_test = (df[df.columns[1:]][df.index >= 40000], df[df.columns[:1]][df.index >= 40000])"
   ]
  },
  {
   "cell_type": "code",
   "execution_count": 30,
   "metadata": {},
   "outputs": [
    {
     "data": {
      "text/plain": [
       "(40000, 784)"
      ]
     },
     "execution_count": 30,
     "metadata": {},
     "output_type": "execute_result"
    }
   ],
   "source": [
    "X_train.shape"
   ]
  },
  {
   "cell_type": "code",
   "execution_count": 38,
   "metadata": {},
   "outputs": [],
   "source": [
    "def Data_func():\n",
    "    df = pd.read_csv('train.csv')\n",
    "    \n",
    "    X_train, y_train = (df[df.columns[1:]][df.index < 40000], df[df.columns[:1]][df.index < 40000])\n",
    "    X_test, y_test = (df[df.columns[1:]][df.index >= 40000], df[df.columns[:1]][df.index >= 40000])\n",
    "    \n",
    "    X_train = X_train.values\n",
    "    y_train = y_train.values\n",
    "    X_test = X_test.values\n",
    "    y_test = y_test.values\n",
    "    \n",
    "    y_train = np_utils.to_categorical(y_train)\n",
    "    y_test = np_utils.to_categorical(y_test)\n",
    "\n",
    "    #L, W, H = X_train.shape\n",
    "    #X_train = X_train.reshape(-1, W * H)\n",
    "    #X_test = X_test.reshape(-1, W * H)\n",
    "\n",
    "    #X_train = X_train / 255.0\n",
    "    #X_test = X_test / 255.0\n",
    "\n",
    "    return (X_train, y_train), (X_test, y_test)"
   ]
  },
  {
   "cell_type": "code",
   "execution_count": 39,
   "metadata": {},
   "outputs": [],
   "source": [
    "(X_train, y_train), (X_test, y_test) = Data_func()"
   ]
  },
  {
   "cell_type": "code",
   "execution_count": 40,
   "metadata": {},
   "outputs": [
    {
     "data": {
      "text/plain": [
       "((40000, 784), (40000, 10), (2000, 784), (2000, 10))"
      ]
     },
     "execution_count": 40,
     "metadata": {},
     "output_type": "execute_result"
    }
   ],
   "source": [
    "X_train.shape, y_train.shape, X_test.shape, y_test.shape"
   ]
  },
  {
   "cell_type": "code",
   "execution_count": 41,
   "metadata": {},
   "outputs": [],
   "source": [
    "def ANN_seq_func(Nin, Nh, Nout):\n",
    "    model = models.Sequential()\n",
    "    model.add(layers.Dense(Nh, activation='relu', input_shape=(Nin,)))\n",
    "    model.add(layers.Dense(Nout, activation='softmax'))\n",
    "    model.compile(loss='categorical_crossentropy',\n",
    "                  optimizer='adam', metrics=['accuracy'])\n",
    "    return model"
   ]
  },
  {
   "cell_type": "code",
   "execution_count": 42,
   "metadata": {},
   "outputs": [],
   "source": [
    "import matplotlib.pyplot as plt\n",
    "\n",
    "\n",
    "def plot_acc(history, title=None):\n",
    "    # summarize history for accuracy\n",
    "    if not isinstance(history, dict):\n",
    "        history = history.history\n",
    "\n",
    "    plt.plot(history['acc'])\n",
    "    plt.plot(history['val_acc'])\n",
    "    if title is not None:\n",
    "        plt.title(title)\n",
    "    plt.ylabel('Accuracy')\n",
    "    plt.xlabel('Epoch')\n",
    "    plt.legend(['Training', 'Verification'], loc=0)\n",
    "    plt.show()\n",
    "\n",
    "\n",
    "def plot_loss(history, title=None):\n",
    "    # summarize history for loss\n",
    "    if not isinstance(history, dict):\n",
    "        history = history.history\n",
    "\n",
    "    plt.plot(history['loss'])\n",
    "    plt.plot(history['val_loss'])\n",
    "    if title is not None:\n",
    "        plt.title(title)\n",
    "    plt.ylabel('Loss')\n",
    "    plt.xlabel('Epoch')\n",
    "    plt.legend(['Training', 'Verification'], loc=0)\n",
    "    plt.show()"
   ]
  },
  {
   "cell_type": "code",
   "execution_count": 44,
   "metadata": {},
   "outputs": [
    {
     "name": "stdout",
     "output_type": "stream",
     "text": [
      "Train on 28000 samples, validate on 12000 samples\n",
      "Epoch 1/15\n",
      "28000/28000 [==============================] - 5s 172us/step - loss: 8.9964 - acc: 0.4378 - val_loss: 7.4216 - val_acc: 0.5366\n",
      "Epoch 2/15\n",
      "28000/28000 [==============================] - 3s 111us/step - loss: 7.5269 - acc: 0.5301 - val_loss: 7.2447 - val_acc: 0.5476\n",
      "Epoch 3/15\n",
      "28000/28000 [==============================] - 3s 111us/step - loss: 7.2366 - acc: 0.5490 - val_loss: 7.0655 - val_acc: 0.5592\n",
      "Epoch 4/15\n",
      "28000/28000 [==============================] - 3s 108us/step - loss: 6.4926 - acc: 0.5938 - val_loss: 5.7337 - val_acc: 0.6408\n",
      "Epoch 5/15\n",
      "28000/28000 [==============================] - 3s 107us/step - loss: 5.9338 - acc: 0.6288 - val_loss: 5.7005 - val_acc: 0.6437\n",
      "Epoch 6/15\n",
      "28000/28000 [==============================] - 3s 106us/step - loss: 5.7601 - acc: 0.6403 - val_loss: 5.5483 - val_acc: 0.6537\n",
      "Epoch 7/15\n",
      "28000/28000 [==============================] - 3s 106us/step - loss: 5.6427 - acc: 0.6484 - val_loss: 5.4091 - val_acc: 0.6623\n",
      "Epoch 8/15\n",
      "28000/28000 [==============================] - 3s 105us/step - loss: 5.5688 - acc: 0.6527 - val_loss: 5.3982 - val_acc: 0.6629\n",
      "Epoch 9/15\n",
      "28000/28000 [==============================] - 3s 106us/step - loss: 5.6099 - acc: 0.6503 - val_loss: 5.5191 - val_acc: 0.6553\n",
      "Epoch 10/15\n",
      "28000/28000 [==============================] - 3s 105us/step - loss: 5.5618 - acc: 0.6533 - val_loss: 5.5466 - val_acc: 0.6541\n",
      "Epoch 11/15\n",
      "28000/28000 [==============================] - 3s 106us/step - loss: 5.4753 - acc: 0.6593 - val_loss: 5.3618 - val_acc: 0.6653\n",
      "Epoch 12/15\n",
      "28000/28000 [==============================] - 3s 106us/step - loss: 5.5180 - acc: 0.6562 - val_loss: 5.2888 - val_acc: 0.6708\n",
      "Epoch 13/15\n",
      "28000/28000 [==============================] - 3s 106us/step - loss: 5.4651 - acc: 0.6595 - val_loss: 5.4287 - val_acc: 0.6617\n",
      "Epoch 14/15\n",
      "28000/28000 [==============================] - 3s 113us/step - loss: 5.4224 - acc: 0.6622 - val_loss: 5.3164 - val_acc: 0.6684\n",
      "Epoch 15/15\n",
      "28000/28000 [==============================] - 3s 113us/step - loss: 5.4353 - acc: 0.6613 - val_loss: 5.3432 - val_acc: 0.6667\n",
      "2000/2000 [==============================] - 0s 37us/step\n",
      "Test Loss and Accuracy -> [5.881198453903198, 0.6340000063180924]\n"
     ]
    },
    {
     "data": {
      "image/png": "[encoded data removed]",
      "text/plain": [
       "<Figure size 432x288 with 1 Axes>"
      ]
     },
     "metadata": {
      "needs_background": "light"
     },
     "output_type": "display_data"
    },
    {
     "data": {
      "image/png": "[encoded data removed]",
      "text/plain": [
       "<Figure size 432x288 with 1 Axes>"
      ]
     },
     "metadata": {
      "needs_background": "light"
     },
     "output_type": "display_data"
    }
   ],
   "source": [
    "Nin = 784 # 입력 변수 길이(행)\n",
    "Nh = 100 # 은닉 계층의 노드 수\n",
    "number_of_class = 10 # 출력 노드 수(y 값 클래스 수)\n",
    "Nout = number_of_class\n",
    "\n",
    "model = ANN_seq_func(Nin, Nh, Nout)\n",
    "history = model.fit(X_train, y_train, epochs=15, batch_size=100, validation_split=0.3) #epochs : 학습 회수\n",
    "performace_test = model.evaluate(X_test, y_test, batch_size=100) #batch_size = 한 데이터를 얼마나 나누어 넣을 지 지정하는 값\n",
    "print('Test Loss and Accuracy ->', performace_test)\n",
    "\n",
    "plot_loss(history)\n",
    "plt.show()\n",
    "plot_acc(history)\n",
    "plt.show()"
   ]
  },
  {
   "cell_type": "code",
   "execution_count": 52,
   "metadata": {},
   "outputs": [],
   "source": [
    "prediction = model.predict(X_test)"
   ]
  },
  {
   "cell_type": "code",
   "execution_count": 56,
   "metadata": {},
   "outputs": [],
   "source": [
    "y_test_df = pd.DataFrame(y_test)\n",
    "prediction_df = pd.DataFrame(prediction)"
   ]
  },
  {
   "cell_type": "code",
   "execution_count": 57,
   "metadata": {},
   "outputs": [],
   "source": [
    "real_value = y_test_df.stack()\n",
    "prediction_value = prediction_df.stack()"
   ]
  },
  {
   "cell_type": "code",
   "execution_count": 67,
   "metadata": {},
   "outputs": [],
   "source": [
    "from pandas import Series"
   ]
  },
  {
   "cell_type": "code",
   "execution_count": 78,
   "metadata": {},
   "outputs": [],
   "source": [
    "real_value_factor = Series(pd.Categorical(real_value[real_value!=0].index.get_level_values(1)))\n",
    "prediction_value_factor = Series(pd.Categorical(prediction_value[prediction_value!=0].index.get_level_values(1)))"
   ]
  },
  {
   "cell_type": "code",
   "execution_count": 79,
   "metadata": {},
   "outputs": [],
   "source": [
    "real_value_factor = real_value_factor.tolist()\n",
    "prediction_value_factor = prediction_value_factor.tolist()"
   ]
  },
  {
   "cell_type": "code",
   "execution_count": 84,
   "metadata": {},
   "outputs": [
    {
     "data": {
      "image/png": "[encoded data removed]",
      "text/plain": [
       "<Figure size 1080x360 with 1 Axes>"
      ]
     },
     "metadata": {
      "needs_background": "light"
     },
     "output_type": "display_data"
    }
   ],
   "source": [
    "plt.figure(figsize=(15,5))\n",
    "plt.plot(real_value_factor[:50], 'o', label='y', color = 'red')\n",
    "plt.plot(prediction_value_factor[:50], 'o', label='prediction' , color = 'blue')\n",
    "plt.legend()\n",
    "plt.show()"
   ]
  }
 ],
 "metadata": {
  "kernelspec": {
   "display_name": "Python 3",
   "language": "python",
   "name": "python3"
  },
  "language_info": {
   "codemirror_mode": {
    "name": "ipython",
    "version": 3
   },
   "file_extension": ".py",
   "mimetype": "text/x-python",
   "name": "python",
   "nbconvert_exporter": "python",
   "pygments_lexer": "ipython3",
   "version": "3.7.3"
  }
 },
 "nbformat": 4,
 "nbformat_minor": 2
}
